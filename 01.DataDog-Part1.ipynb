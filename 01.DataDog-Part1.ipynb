{
 "cells": [
  {
   "cell_type": "markdown",
   "metadata": {},
   "source": [
    "## 1. Setup `DataDog` agent "
   ]
  },
  {
   "cell_type": "markdown",
   "metadata": {},
   "source": [
    "- DataDog support different platform/machine (Linux, Docker, Cloud ...)\n",
    "- We will use AWS EC2 instance to host `DataDog` agent\n",
    "- Provision an Ubuntu EC2 instance in AWS"
   ]
  },
  {
   "cell_type": "markdown",
   "metadata": {},
   "source": [
    "### Install `DataDog` agent in EC2"
   ]
  },
  {
   "cell_type": "markdown",
   "metadata": {},
   "source": [
    "- Login into DataDog dashboard using signup account\n",
    "- Follow setup `agent` documentation & select the host system as Ubuntu\n",
    "- ssh to EC2 instance and run following command to setup agent"
   ]
  },
  {
   "cell_type": "markdown",
   "metadata": {},
   "source": [
    "```bash\n",
    "DD_AGENT_MAJOR_VERSION=7 DD_API_KEY=96e4c1f798656cba0491cca292cbc410 DD_SITE=\"datadoghq.com\" bash -c \"$(curl -L https://s3.amazonaws.com/dd-agent/scripts/install_script.sh)\"\n",
    "```"
   ]
  },
  {
   "cell_type": "markdown",
   "metadata": {},
   "source": [
    "- Wait for the command run completely\n",
    "- Run following command to check the status of `datadog-agent` service"
   ]
  },
  {
   "cell_type": "markdown",
   "metadata": {},
   "source": [
    "```bash\n",
    "sudo systemctl status datadog-agent \n",
    "```"
   ]
  },
  {
   "cell_type": "markdown",
   "metadata": {},
   "source": [
    "- You should see following output:\n",
    "```\n",
    "● datadog-agent.service - Datadog Agent\n",
    "     Loaded: loaded (/lib/systemd/system/datadog-agent.service; enabled; vendor preset: enabled)\n",
    "     Active: active (running) since Sat 2020-11-21 15:17:14 UTC; 5s ago\n",
    "   Main PID: 70805 (agent)\n",
    "      Tasks: 7 (limit: 1164)\n",
    "     Memory: 108.5M\n",
    "     CGroup: /system.slice/datadog-agent.service\n",
    "             └─70805 /opt/datadog-agent/bin/agent/agent run -p /opt/datadog-agent/run/agent.pid\n",
    "```\n",
    "\n",
    "- If you see following output. This means your agent has been stop. \n",
    "```\n",
    "● datadog-agent.service - Datadog Agent\n",
    "     Loaded: loaded (/lib/systemd/system/datadog-agent.service; enabled; vendor preset: enabled)\n",
    "     Active: inactive (dead) since Sat 2020-11-21 10:58:34 UTC; 4h 16min ago\n",
    "    Process: 31265 ExecStart=/opt/datadog-agent/bin/agent/agent run -p /opt/datadog-agent/run/agent.pid (code=exited, status=0/SUCCESS)\n",
    "   Main PID: 31265 (code=exited, status=0/SUCCESS)\n",
    "```\n",
    "\n",
    "- You should start it by running command \n",
    "```bash\n",
    "sudo systemctl start datadog-agent\n",
    "```\n",
    "\n",
    "- Now you should have your `datadog-agent` up and running in your host and start playing with its features "
   ]
  },
  {
   "cell_type": "markdown",
   "metadata": {},
   "source": [
    "### Feature 1: Logs - ingest a system log file to `DataDog` dashboard"
   ]
  },
  {
   "cell_type": "markdown",
   "metadata": {},
   "source": [
    "#### Configuration\n",
    "\n",
    "- 1. Collecting logs is disabled by default in the Datadog Agent. You must enable it in datadog.yaml\n",
    "\n",
    "```bash\n",
    "sudo vi /etc/datadog-agent/datadog.yaml\n",
    "\n",
    "# enable collecting logs\n",
    "logs_enabled: true\n",
    "```"
   ]
  },
  {
   "cell_type": "markdown",
   "metadata": {},
   "source": [
    "- 2. Define your `source` and `service`. For example: we could you `source=syslog` and `service=python`\n",
    "\n",
    "```bash\n",
    "sudo mkdir -p /etc/datadog-agent/conf.d/python.d/\n",
    "\n",
    "# create conf.yaml file \n",
    "sudo vi /etc/datadog-agent/conf.d/python.d/conf.yaml\n",
    "\n",
    "#Log section\n",
    "logs:\n",
    "\n",
    "    # - type : (mandatory) type of log input source (tcp / udp / file)\n",
    "    #   port / path : (mandatory) Set port if type is tcp or udp. Set path if type is file\n",
    "    #   service : (mandatory) name of the service owning the log\n",
    "    #   source : (mandatory) attribute that defines which integration is sending the log\n",
    "    #   sourcecategory : (optional) Multiple value attribute. Can be used to refine the source attribute\n",
    "    #   tags: (optional) add tags to each log collected\n",
    "\n",
    "  - type: file\n",
    "    path: /var/log/syslog\n",
    "    service: syslog\n",
    "    source: python\n",
    "```"
   ]
  },
  {
   "cell_type": "markdown",
   "metadata": {},
   "source": [
    "\n",
    "- 3. Restart the agent to apply new configuration\n",
    "```bash\n",
    "sudo systemctl restart datadog-agent\n",
    "```"
   ]
  },
  {
   "cell_type": "markdown",
   "metadata": {},
   "source": [
    "#### Troubleshooting"
   ]
  },
  {
   "cell_type": "markdown",
   "metadata": {},
   "source": [
    "```bash\n",
    "# check status\n",
    "\n",
    "sudo systemctl status datadog-agent\n",
    "\n",
    "\n",
    "Nov 21 15:37:31 ip-172-31-42-32 agent[75632]: 2020-11-21 15:37:31 UTC | CORE | INFO | (pkg/logs/input/file/scanner.go:225 in startNewTailer) | Starting a new tailer for: /var/log/syslog (offset: 0, whence:>\n",
    "Nov 21 15:37:31 ip-172-31-42-32 agent[75632]: 2020-11-21 15:37:31 UTC | CORE | INFO | (pkg/logs/input/file/tailer_nix.go:29 in setup) | Opening /var/log/syslog for tailer key /var/log/syslog\n",
    "Nov 21 15:37:31 ip-172-31-42-32 agent[75632]: 2020-11-21 15:37:31 UTC | CORE | WARN | (pkg/logs/input/file/scanner.go:229 in startNewTailer) | open /var/log/syslog: permission denied\n",
    "```"
   ]
  },
  {
   "cell_type": "markdown",
   "metadata": {},
   "source": [
    "- The message said that `datadog-agent` doesn't have permission to tail the file `/var/log/syslog` since this is file under root\n",
    "- So we should `chmod` the file to `644` so the agent could read it. However, this is not recommended way in term of security vulnerability\n",
    "- We will copy this file to another user folder \n",
    "\n",
    "```bash\n",
    "cp /var/log/syslog /home/ubuntu/01_setup_datadog/logs/\n",
    "\n",
    "chmod 644 /home/ubuntu/01_setup_datadog/logs/syslog\n",
    "\n",
    "# edit the conf.yaml file again to point to new file\n",
    "#Log section\n",
    "logs:\n",
    "\n",
    "    # - type : (mandatory) type of log input source (tcp / udp / file)\n",
    "    #   port / path : (mandatory) Set port if type is tcp or udp. Set path if type is file\n",
    "    #   service : (mandatory) name of the service owning the log\n",
    "    #   source : (mandatory) attribute that defines which integration is sending the log\n",
    "    #   sourcecategory : (optional) Multiple value attribute. Can be used to refine the source attribute\n",
    "    #   tags: (optional) add tags to each log collected\n",
    "\n",
    "  - type: file\n",
    "    path: /home/ubuntu/01_setup_datadog/logs/syslog\n",
    "    service: syslog\n",
    "    source: python\n",
    "```"
   ]
  },
  {
   "cell_type": "markdown",
   "metadata": {},
   "source": [
    "- Restart and check the status again\n",
    "\n",
    "```bash\n",
    "sudo systemctl restart datadog-agent\n",
    "\n",
    "sudo systemctl status datadog-agent\n",
    "\n",
    "Nov 21 15:47:51 ip-172-31-42-32 agent[77860]: 2020-11-21 15:47:51 UTC | CORE | INFO | (pkg/collector/runner/runner.go:327 in work) | check:disk | Done running check, next runs will be logged every 500 runs\n",
    "Nov 21 15:47:56 ip-172-31-42-32 agent[77860]: 2020-11-21 15:47:56 UTC | CORE | INFO | (pkg/collector/runner/runner.go:261 in work) | check:network | Running check\n",
    "Nov 21 15:47:56 ip-172-31-42-32 agent[77860]: 2020-11-21 15:47:56 UTC | CORE | INFO | (pkg/collector/runner/runner.go:327 in work) | check:network | Done running check, next runs will be logged every 500 r>\n",
    "Nov 21 15:47:57 ip-172-31-42-32 agent[77860]: 2020-11-21 15:47:57 UTC | CORE | INFO | (pkg/collector/runner/runner.go:261 in work) | check:load | Running check\n",
    "Nov 21 15:47:57 ip-172-31-42-32 agent[77860]: 2020-11-21 15:47:57 UTC | CORE | INFO | (pkg/collector/runner/runner.go:327 in work) | check:load | Done running check, next runs will be logged every 500 runs\n",
    "Nov 21 15:47:58 ip-172-31-42-32 agent[77860]: 2020-11-21 15:47:58 UTC | CORE | INFO | (pkg/logs/input/file/scanner.go:248 in handleTailingModeChange) | Tailing mode changed for file:/home/ubuntu/01_setup_d>\n",
    "Nov 21 15:47:58 ip-172-31-42-32 agent[77860]: 2020-11-21 15:47:58 UTC | CORE | INFO | (pkg/logs/input/file/scanner.go:225 in startNewTailer) | Starting a new tailer for: /home/ubuntu/01_setup_datadog/logs/>\n",
    "Nov 21 15:47:58 ip-172-31-42-32 agent[77860]: 2020-11-21 15:47:58 UTC | CORE | INFO | (pkg/logs/input/file/tailer_nix.go:29 in setup) | Opening /home/ubuntu/01_setup_datadog/logs/syslog for tailer key /hom>\n",
    "Nov 21 15:47:58 ip-172-31-42-32 agent[77860]: 2020-11-21 15:47:58 UTC | CORE | INFO | (pkg/collector/runner/runner.go:261 in work) | check:file_handle | Running check\n",
    "Nov 21 15:47:58 ip-172-31-42-32 agent[77860]: 2020-11-21 15:47:58 UTC | CORE | INFO | (pkg/collector/runner/runner.go:327 in work) | check:file_handle | Done running check, next runs will be logged every 5>\n",
    "lines 1-19/19 (END)\n",
    "```"
   ]
  },
  {
   "cell_type": "markdown",
   "metadata": {},
   "source": [
    "- Congrats. You did it successfully"
   ]
  },
  {
   "cell_type": "markdown",
   "metadata": {},
   "source": [
    "### Feature 2. Infrastructure/Integration Metrics"
   ]
  },
  {
   "cell_type": "markdown",
   "metadata": {},
   "source": [
    "- Login to `DataDog` portal\n",
    "- Follow the documentation to create an integration with AWS which will all `datadog-agent` to pull our log/activity for your AWS to the portal\n",
    "- https://docs.datadoghq.com/integrations/amazon_web_services/?tab=manual"
   ]
  },
  {
   "cell_type": "markdown",
   "metadata": {},
   "source": [
    "- Here is basic idea of AWS integration\n",
    "    - You will first need to create a IAM role in your AWS account which will allow `DataDog` aws account \n",
    "    \n",
    "    ```\n",
    "    {\n",
    "      \"Version\": \"2012-10-17\",\n",
    "      \"Statement\": [\n",
    "        {\n",
    "          \"Effect\": \"Allow\",\n",
    "          \"Principal\": {\n",
    "            \"AWS\": \"arn:aws:iam::464622532012:root\"\n",
    "          },\n",
    "          \"Action\": \"sts:AssumeRole\",\n",
    "          \"Condition\": {\n",
    "            \"StringEquals\": {\n",
    "              \"sts:ExternalId\": \"14df577b07ab47ac89934cdb9ec99704\"\n",
    "            }\n",
    "          }\n",
    "        }\n",
    "      ]\n",
    "    }\n",
    "    ```\n",
    "    \n",
    "    - Create a policy to allow this role to access to your AWS services. You could also limit the access by specify the resource\n",
    "    \n",
    "    ```\n",
    "    {\n",
    "        \"Version\": \"2012-10-17\",\n",
    "        \"Statement\": [\n",
    "            {\n",
    "                \"Action\": [\n",
    "                    \"cloudwatch:Get*\",\n",
    "                    \"cloudwatch:List*\",\n",
    "                    \"ec2:Describe*\",\n",
    "                    \"support:*\",\n",
    "                    \"tag:GetResources\",\n",
    "                    \"tag:GetTagKeys\",\n",
    "                    \"tag:GetTagValues\"\n",
    "                ],\n",
    "                \"Effect\": \"Allow\",\n",
    "                \"Resource\": \"*\"\n",
    "            }\n",
    "        ]\n",
    "    }\n",
    "    ```\n",
    "    \n",
    "    - Install the integration in DataDog AWS integration tile.\n",
    "    \n",
    "    - Finally, you also need to restart your agent in the host to apply the new configuration"
   ]
  },
  {
   "cell_type": "markdown",
   "metadata": {},
   "source": [
    "- By result, you could find all the data activity/log of your AWS in DataDog dashboard"
   ]
  },
  {
   "cell_type": "markdown",
   "metadata": {},
   "source": [
    "### Feature 3. Alerting and Dashboarding"
   ]
  },
  {
   "cell_type": "markdown",
   "metadata": {},
   "source": [
    "- Show detail in our sharing session. You could take screenshot by yourself"
   ]
  },
  {
   "cell_type": "markdown",
   "metadata": {},
   "source": [
    "### Feature 4. Synthetics test"
   ]
  },
  {
   "cell_type": "markdown",
   "metadata": {},
   "source": [
    "- This feature is kind of automation test for your API \n",
    "\n",
    "- You could create a sample API via API gateway or choose any simple public API for testing\n",
    "\n",
    "- Here I will choose a public api: https://app.swaggerhub.com/apis/nekvapil/InternationalNamedayAPI/3.0.0\n",
    "\n",
    "- Detail will be explain on our session"
   ]
  },
  {
   "cell_type": "code",
   "execution_count": null,
   "metadata": {},
   "outputs": [],
   "source": []
  }
 ],
 "metadata": {
  "kernelspec": {
   "display_name": "Python 3",
   "language": "python",
   "name": "python3"
  },
  "language_info": {
   "codemirror_mode": {
    "name": "ipython",
    "version": 3
   },
   "file_extension": ".py",
   "mimetype": "text/x-python",
   "name": "python",
   "nbconvert_exporter": "python",
   "pygments_lexer": "ipython3",
   "version": "3.7.7"
  }
 },
 "nbformat": 4,
 "nbformat_minor": 2
}
